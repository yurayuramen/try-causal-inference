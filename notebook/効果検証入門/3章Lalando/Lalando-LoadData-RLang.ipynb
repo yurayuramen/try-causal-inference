{
 "cells": [
  {
   "cell_type": "markdown",
   "id": "italian-wages",
   "metadata": {},
   "source": [
    "# dtaファイルを読み込みCSVファイルを作る\n",
    "- 書籍「[効果検証入門～正しい比較のための因果推論／計量経済学の基礎](https://gihyo.jp/book/2020/978-4-297-11117-5)」の 3.4. Lalondeデータセットの分析で行っているデータ取得処理の部分を抜粋しています"
   ]
  },
  {
   "cell_type": "markdown",
   "id": "covered-begin",
   "metadata": {},
   "source": [
    "## パッケージセットアップ"
   ]
  },
  {
   "cell_type": "code",
   "execution_count": 1,
   "id": "exempt-recommendation",
   "metadata": {},
   "outputs": [
    {
     "name": "stderr",
     "output_type": "stream",
     "text": [
      "── \u001b[1mAttaching packages\u001b[22m ─────────────────────────────────────── tidyverse 1.3.0 ──\n",
      "\n",
      "\u001b[32m✔\u001b[39m \u001b[34mggplot2\u001b[39m 3.3.3     \u001b[32m✔\u001b[39m \u001b[34mpurrr  \u001b[39m 0.3.4\n",
      "\u001b[32m✔\u001b[39m \u001b[34mtibble \u001b[39m 3.0.6     \u001b[32m✔\u001b[39m \u001b[34mdplyr  \u001b[39m 1.0.4\n",
      "\u001b[32m✔\u001b[39m \u001b[34mtidyr  \u001b[39m 1.1.2     \u001b[32m✔\u001b[39m \u001b[34mstringr\u001b[39m 1.4.0\n",
      "\u001b[32m✔\u001b[39m \u001b[34mreadr  \u001b[39m 1.4.0     \u001b[32m✔\u001b[39m \u001b[34mforcats\u001b[39m 0.5.1\n",
      "\n",
      "── \u001b[1mConflicts\u001b[22m ────────────────────────────────────────── tidyverse_conflicts() ──\n",
      "\u001b[31m✖\u001b[39m \u001b[34mdplyr\u001b[39m::\u001b[32mfilter()\u001b[39m masks \u001b[34mstats\u001b[39m::filter()\n",
      "\u001b[31m✖\u001b[39m \u001b[34mdplyr\u001b[39m::\u001b[32mlag()\u001b[39m    masks \u001b[34mstats\u001b[39m::lag()\n",
      "\n"
     ]
    }
   ],
   "source": [
    "library(\"tidyverse\")\n",
    "library(\"broom\")\n",
    "library(\"haven\")\n"
   ]
  },
  {
   "cell_type": "markdown",
   "id": "altered-skating",
   "metadata": {},
   "source": [
    "## データをダウンロードし、加工"
   ]
  },
  {
   "cell_type": "code",
   "execution_count": 2,
   "id": "standing-shaft",
   "metadata": {},
   "outputs": [],
   "source": [
    "cps1_data <- read_dta(\"https://users.nber.org/~rdehejia/data/cps_controls.dta\")\n",
    "cps3_data <- read_dta(\"https://users.nber.org/~rdehejia/data/cps_controls3.dta\")\n",
    "nsw_dw_data <- read_dta(\"https://users.nber.org/~rdehejia/data/nsw_dw.dta\")\n",
    "\n",
    "cps1_nsw_data <- nsw_dw_data %>%\n",
    "  filter(treat == 1) %>%\n",
    "  rbind(cps1_data)\n",
    "\n",
    "cps3_nsw_data <- nsw_dw_data %>%\n",
    "  filter(treat == 1) %>%\n",
    "  rbind(cps3_data)\n"
   ]
  },
  {
   "cell_type": "markdown",
   "id": "interim-roberts",
   "metadata": {},
   "source": [
    "## CSVファイルとして保存"
   ]
  },
  {
   "cell_type": "code",
   "execution_count": 3,
   "id": "excited-attack",
   "metadata": {},
   "outputs": [],
   "source": [
    "write.csv(cps1_nsw_data, 'cps1_nsw_data_R.csv')\n",
    "write.csv(cps3_nsw_data, 'cps3_nsw_data_R.csv')\n",
    "write.csv(nsw_dw_data, 'nsw_dw_R.csv')\n"
   ]
  },
  {
   "cell_type": "code",
   "execution_count": null,
   "id": "recent-needle",
   "metadata": {},
   "outputs": [],
   "source": []
  }
 ],
 "metadata": {
  "kernelspec": {
   "display_name": "R",
   "language": "R",
   "name": "ir"
  },
  "language_info": {
   "codemirror_mode": "r",
   "file_extension": ".r",
   "mimetype": "text/x-r-source",
   "name": "R",
   "pygments_lexer": "r",
   "version": "4.0.3"
  }
 },
 "nbformat": 4,
 "nbformat_minor": 5
}
